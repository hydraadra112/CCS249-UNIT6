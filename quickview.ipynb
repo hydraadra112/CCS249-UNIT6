{
 "cells": [
  {
   "cell_type": "markdown",
   "id": "38124c16",
   "metadata": {},
   "source": [
    "# **UNIT 6.2 Exercise Notebook**\n",
    "\n",
    "This notebook will serve as a platform to do a quick view to our answer to Unit 6 Exercise."
   ]
  },
  {
   "cell_type": "code",
   "execution_count": 1,
   "id": "c55983e5",
   "metadata": {},
   "outputs": [],
   "source": [
    "from HMM import HiddenMarkovModel"
   ]
  },
  {
   "cell_type": "markdown",
   "id": "d6e90bd6",
   "metadata": {},
   "source": [
    "1. **Implement a Hidden Markov model in Python, using the training datasets given on the Assignment for Unit 6.**\n",
    "\n",
    "The cell below showcases the training data that will be used. The training data is derived from the previous assignment. It is organized as a list, with each sentence as a list of tuples, which contains the word, and it's corresponding PoS tag. "
   ]
  },
  {
   "cell_type": "code",
   "execution_count": 2,
   "id": "f9315c67",
   "metadata": {},
   "outputs": [],
   "source": [
    "# Training data: each word is (word, tag)\n",
    "training_data = [\n",
    "    [(\"The\", \"DET\"), (\"cat\", \"NOUN\"), (\"sleeps\", \"VERB\")],\n",
    "    [(\"A\", \"DET\"), (\"dog\", \"NOUN\"), (\"barks\", \"VERB\")],\n",
    "    [(\"The\", \"DET\"), (\"dog\", \"NOUN\"), (\"sleeps\", \"VERB\")],\n",
    "    [(\"My\", \"DET\"), (\"dog\", \"NOUN\"), (\"runs\", \"VERB\"), (\"fast\", \"ADV\")],\n",
    "    [(\"A\", \"DET\"), (\"cat\", \"NOUN\"), (\"meows\", \"VERB\"), (\"loudly\", \"ADV\")],\n",
    "    [(\"Your\", \"DET\"), (\"cat\", \"NOUN\"), (\"runs\", \"VERB\")],\n",
    "    [(\"The\", \"DET\"), (\"bird\", \"NOUN\"), (\"sings\", \"VERB\"), (\"sweetly\", \"ADV\")],\n",
    "    [(\"A\", \"DET\"), (\"bird\", \"NOUN\"), (\"chirps\", \"VERB\")]\n",
    "]"
   ]
  },
  {
   "cell_type": "code",
   "execution_count": 3,
   "id": "a285f837",
   "metadata": {},
   "outputs": [],
   "source": [
    "hmm = HiddenMarkovModel()\n",
    "hmm.train(training_data)"
   ]
  },
  {
   "cell_type": "markdown",
   "id": "934e34f5",
   "metadata": {},
   "source": [
    "2. **Implement Viterbi algorithm to determine the best PoS sequence on the following test sentences**:\n",
    "\n",
    "- The cat meows\n",
    "- The dog barks loudly\n",
    "\n",
    "The Viterbi algorithm is already implemented in the `HMM.py`, which classified a word in its respective tag by using transition probabilities and emission probabilities.\n",
    "\n",
    "The cell below is a demonstration."
   ]
  },
  {
   "cell_type": "code",
   "execution_count": 5,
   "id": "a6e627ac",
   "metadata": {},
   "outputs": [
    {
     "name": "stdout",
     "output_type": "stream",
     "text": [
      "Sentence: ['The', 'cat', 'meows']\n",
      "Predicted Tags: ['DET', 'NOUN', 'VERB']\n",
      "Sentence: ['My', 'dog', 'barks', 'loudly']\n",
      "Predicted Tags: ['DET', 'NOUN', 'VERB', 'ADV']\n"
     ]
    }
   ],
   "source": [
    "# Test sentences\n",
    "test_sentences = [\n",
    "    [\"The\", \"cat\", \"meows\"],\n",
    "    [\"My\", \"dog\", \"barks\", \"loudly\"]\n",
    "]\n",
    "\n",
    "for sentence in test_sentences:\n",
    "    tags = hmm.viterbi(sentence)\n",
    "    print(f\"Sentence: {sentence}\")\n",
    "    print(f\"Predicted Tags: {tags}\")"
   ]
  },
  {
   "cell_type": "markdown",
   "id": "c94b9afb",
   "metadata": {},
   "source": [
    "**Prepared by**:\n",
    "\n",
    "- CARADO, JOHN MANUEL\n",
    "- TACUEL, ALLAN ANDREWS\n",
    "\n",
    "BSCS 3A - CCS 249 NLP"
   ]
  }
 ],
 "metadata": {
  "kernelspec": {
   "display_name": "Python 3",
   "language": "python",
   "name": "python3"
  },
  "language_info": {
   "codemirror_mode": {
    "name": "ipython",
    "version": 3
   },
   "file_extension": ".py",
   "mimetype": "text/x-python",
   "name": "python",
   "nbconvert_exporter": "python",
   "pygments_lexer": "ipython3",
   "version": "3.11.1"
  }
 },
 "nbformat": 4,
 "nbformat_minor": 5
}
