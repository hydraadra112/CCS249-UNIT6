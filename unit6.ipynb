{
 "cells": [
  {
   "cell_type": "code",
   "execution_count": 1,
   "id": "c55983e5",
   "metadata": {},
   "outputs": [],
   "source": [
    "from HMM import HMMTagger"
   ]
  },
  {
   "cell_type": "code",
   "execution_count": 2,
   "id": "f9315c67",
   "metadata": {},
   "outputs": [],
   "source": [
    "# Training data: each word is (word, tag)\n",
    "training_data = [\n",
    "    [(\"The\", \"DET\"), (\"cat\", \"NOUN\"), (\"sleeps\", \"VERB\")],\n",
    "    [(\"A\", \"DET\"), (\"dog\", \"NOUN\"), (\"barks\", \"VERB\")],\n",
    "    [(\"The\", \"DET\"), (\"dog\", \"NOUN\"), (\"sleeps\", \"VERB\")],\n",
    "    [(\"My\", \"DET\"), (\"dog\", \"NOUN\"), (\"runs\", \"VERB\"), (\"fast\", \"ADV\")],\n",
    "    [(\"A\", \"DET\"), (\"cat\", \"NOUN\"), (\"meows\", \"VERB\"), (\"loudly\", \"ADV\")],\n",
    "    [(\"Your\", \"DET\"), (\"cat\", \"NOUN\"), (\"runs\", \"VERB\")],\n",
    "    [(\"The\", \"DET\"), (\"bird\", \"NOUN\"), (\"sings\", \"VERB\"), (\"sweetly\", \"ADV\")],\n",
    "    [(\"A\", \"DET\"), (\"bird\", \"NOUN\"), (\"chirps\", \"VERB\")]\n",
    "]"
   ]
  },
  {
   "cell_type": "code",
   "execution_count": 4,
   "id": "a285f837",
   "metadata": {},
   "outputs": [],
   "source": [
    "hmm = HMMTagger()\n",
    "hmm.train(training_data)"
   ]
  },
  {
   "cell_type": "code",
   "execution_count": 7,
   "id": "a6e627ac",
   "metadata": {},
   "outputs": [
    {
     "name": "stdout",
     "output_type": "stream",
     "text": [
      "=== MARKOV SEQUENCE PROBABILITIES ===\n",
      "Evaluating known tag sequence:\n",
      "P(DET | <S>) = 0.692308, P(The | DET) = 0.166667 → Step = 0.11538462\n",
      "P(NOUN | DET) = 0.692308, P(cat | NOUN) = 0.166667 → Step = 0.11538462\n",
      "P(VERB | NOUN) = 0.692308, P(meows | VERB) = 0.083333 → Step = 0.05769231\n",
      "P(<E> | VERB) = 0.461538\n",
      "Evaluating known tag sequence:\n",
      "P(DET | <S>) = 0.692308, P(My | DET) = 0.083333 → Step = 0.05769231\n",
      "P(NOUN | DET) = 0.692308, P(dog | NOUN) = 0.166667 → Step = 0.11538462\n",
      "P(VERB | NOUN) = 0.692308, P(barks | VERB) = 0.083333 → Step = 0.05769231\n",
      "P(ADV | VERB) = 0.307692, P(loudly | ADV) = 0.105263 → Step = 0.03238866\n",
      "P(<E> | ADV) = 0.500000\n"
     ]
    }
   ],
   "source": [
    "# === Part 1: Evaluate known sequences (Markov probability view) ===\n",
    "print(\"=== MARKOV SEQUENCE PROBABILITIES ===\")\n",
    "hmm.evaluate_known_sequence([\"The\", \"cat\", \"meows\"], [\"DET\", \"NOUN\", \"VERB\"])\n",
    "hmm.evaluate_known_sequence([\"My\", \"dog\", \"barks\", \"loudly\"], [\"DET\", \"NOUN\", \"VERB\", \"ADV\"])"
   ]
  },
  {
   "cell_type": "code",
   "execution_count": null,
   "id": "0c3e4c8c",
   "metadata": {},
   "outputs": [
    {
     "name": "stdout",
     "output_type": "stream",
     "text": [
      "=== VITERBI POS TAGGING ===\n",
      "Sentence: The can meows\n",
      "Predicted Tags: ['DET', 'NOUN', 'VERB']\n",
      "\n",
      "Sentence: My dog barks loudly\n",
      "Predicted Tags: ['DET', 'NOUN', 'VERB', 'ADV']\n",
      "\n"
     ]
    }
   ],
   "source": [
    "# === Part 2: Viterbi POS prediction on untagged input ===\n",
    "print(\"=== VITERBI POS TAGGING ===\")\n",
    "test_sentences = [\n",
    "    [\"The\", \"can\", \"meows\"],\n",
    "    [\"My\", \"dog\", \"barks\", \"loudly\"]\n",
    "]\n",
    "\n",
    "for sentence in test_sentences:\n",
    "    tags = hmm.viterbi(sentence)\n",
    "    print(f\"Sentence: {' '.join(sentence)}\")\n",
    "    print(f\"Predicted Tags: {tags}\\n\")"
   ]
  }
 ],
 "metadata": {
  "kernelspec": {
   "display_name": "base",
   "language": "python",
   "name": "python3"
  },
  "language_info": {
   "codemirror_mode": {
    "name": "ipython",
    "version": 3
   },
   "file_extension": ".py",
   "mimetype": "text/x-python",
   "name": "python",
   "nbconvert_exporter": "python",
   "pygments_lexer": "ipython3",
   "version": "3.11.7"
  }
 },
 "nbformat": 4,
 "nbformat_minor": 5
}
