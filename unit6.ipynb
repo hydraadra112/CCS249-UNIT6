{
 "cells": [
  {
   "cell_type": "code",
   "execution_count": 1,
   "id": "c55983e5",
   "metadata": {},
   "outputs": [],
   "source": [
    "from HMM import HMMTagger"
   ]
  },
  {
   "cell_type": "code",
   "execution_count": 2,
   "id": "f9315c67",
   "metadata": {},
   "outputs": [],
   "source": [
    "# Training data: each word is (word, tag)\n",
    "training_data = [\n",
    "    [(\"The\", \"DET\"), (\"cat\", \"NOUN\"), (\"sleeps\", \"VERB\")],\n",
    "    [(\"A\", \"DET\"), (\"dog\", \"NOUN\"), (\"barks\", \"VERB\")],\n",
    "    [(\"The\", \"DET\"), (\"dog\", \"NOUN\"), (\"sleeps\", \"VERB\")],\n",
    "    [(\"My\", \"DET\"), (\"dog\", \"NOUN\"), (\"runs\", \"VERB\"), (\"fast\", \"ADV\")],\n",
    "    [(\"A\", \"DET\"), (\"cat\", \"NOUN\"), (\"meows\", \"VERB\"), (\"loudly\", \"ADV\")],\n",
    "    [(\"Your\", \"DET\"), (\"cat\", \"NOUN\"), (\"runs\", \"VERB\")],\n",
    "    [(\"The\", \"DET\"), (\"bird\", \"NOUN\"), (\"sings\", \"VERB\"), (\"sweetly\", \"ADV\")],\n",
    "    [(\"A\", \"DET\"), (\"bird\", \"NOUN\"), (\"chirps\", \"VERB\")]\n",
    "]"
   ]
  },
  {
   "cell_type": "code",
   "execution_count": 5,
   "id": "a285f837",
   "metadata": {},
   "outputs": [],
   "source": [
    "hmm = HMMTagger()\n",
    "hmm.set_laplace(True)\n",
    "hmm.train(training_data)"
   ]
  },
  {
   "cell_type": "code",
   "execution_count": null,
   "id": "a6e627ac",
   "metadata": {},
   "outputs": [
    {
     "name": "stdout",
     "output_type": "stream",
     "text": [
      "Sentence: The cat meows\n",
      "Tags: ['DET', 'NOUN', 'VERB']\n",
      "Log Probability: -7.9448\n",
      "\n",
      "Sentence: My dog barks loudly\n",
      "Tags: ['DET', 'NOUN', 'VERB', 'ADV']\n",
      "Log Probability: -11.9878\n",
      "\n"
     ]
    }
   ],
   "source": [
    "# Test sentences\n",
    "test_sentences = [\n",
    "    [\"The\", \"cat\", \"meows\"],\n",
    "    [\"My\", \"dog\", \"barks\", \"loudly\"]\n",
    "]\n",
    "\n",
    "for sentence in test_sentences:\n",
    "    tags, log_prob = hmm.viterbi(sentence)\n",
    "    print(f\"Sentence: {' '.join(sentence)}\")\n",
    "    print(f\"Predicted Tags: {tags}\")\n",
    "    print(f\"Log Probability: {log_prob:.4f}\\n\")"
   ]
  }
 ],
 "metadata": {
  "kernelspec": {
   "display_name": "base",
   "language": "python",
   "name": "python3"
  },
  "language_info": {
   "codemirror_mode": {
    "name": "ipython",
    "version": 3
   },
   "file_extension": ".py",
   "mimetype": "text/x-python",
   "name": "python",
   "nbconvert_exporter": "python",
   "pygments_lexer": "ipython3",
   "version": "3.11.7"
  }
 },
 "nbformat": 4,
 "nbformat_minor": 5
}
